{
 "cells": [
  {
   "cell_type": "markdown",
   "id": "ad83df17",
   "metadata": {},
   "source": [
    "### Project 1"
   ]
  },
  {
   "cell_type": "code",
   "execution_count": 36,
   "id": "a0bdac96",
   "metadata": {},
   "outputs": [],
   "source": [
    "class Resource:\n",
    "    def __init__(self, name:int, manufacturer:str, total:int, allocated:int):\n",
    "        self.name = name\n",
    "        self.manufacturer = manufacturer\n",
    "        self._total = total\n",
    "        self._allocated = allocated\n",
    "        \n",
    "    @property\n",
    "    def category(self):\n",
    "        return self.__class__.__name__\n",
    "        \n",
    "    def __str__(self):\n",
    "        return self.name\n",
    "    \n",
    "    def __repr__(self):\n",
    "        return (\n",
    "        f\"name: {self.name}, \"\n",
    "        f\"manufacturer: {self.manufacturer}, \"\n",
    "        f\"total: {self._total}, \"\n",
    "        f\"allocate: {self._allocated} \")\n",
    "    \n",
    "    def claim(self, n):\n",
    "        if self._total - n >= self._allocated:\n",
    "            self._allocated += n\n",
    "            print(f\"Allocated {n} {self.name}s!!!\")\n",
    "        else:\n",
    "            print(f\"Impossible to allocate {n} {self.name}s!!\")\n",
    "        \n",
    "    def died(self, n):\n",
    "        if self._total - n >= self._allocated:\n",
    "            self._allocated -= n\n",
    "            print(f\"Rendered {n} {self.name}s!!!\")\n",
    "        else:\n",
    "            print(f\"Impossible to render {n} {self.name}s!!!\")\n",
    "            \n",
    "    def purchased(self, n):\n",
    "        self._total += n\n",
    "        print(f\"Purchased {n} {self.name}s!!!\")\n",
    "        \n",
    "class CPU(Resource):\n",
    "    def __init__(self, name:int, manufacturer:str, total:int, allocated:int, cores:int):\n",
    "        super().__init__(name, manufacturer, total, allocated)\n",
    "        self.cores = cores\n",
    "        \n",
    "class Storage(Resource):\n",
    "    def __init__(self, name:int, manufacturer:str, total:int, allocated:int, capacity_GB: int):\n",
    "        super().__init__(name, manufacturer, total, allocated)\n",
    "        self.capacity_GB = capacity_GB\n",
    "        \n",
    "class HDD(Storage):\n",
    "    def __init__(self, name:int, manufacturer:str, total:int, allocated:int, capacity_GB:int, size:str, rpm:int):\n",
    "        super().__init__(name, manufacturer, total, allocated, capacity_GB)\n",
    "        self.size = size\n",
    "        self.rpm = rpm\n",
    "        \n",
    "class SSD(Storage):\n",
    "    def __init__(self, name:int, manufacturer:str, total:int, allocated:int, capacity_GB:int, interface:str):\n",
    "        super().__init__(name, manufacturer, total, allocated, capacity_GB)\n",
    "        self.interface = interface\n"
   ]
  },
  {
   "cell_type": "code",
   "execution_count": 37,
   "id": "21f5cbe6",
   "metadata": {},
   "outputs": [
    {
     "data": {
      "text/plain": [
       "(45, 'x86')"
      ]
     },
     "execution_count": 37,
     "metadata": {},
     "output_type": "execute_result"
    }
   ],
   "source": [
    "my_cpu = CPU(\"x86\", \"Intel\", 86, 45, 4)\n",
    "my_cpu._allocated, my_cpu.__str__ ()"
   ]
  },
  {
   "cell_type": "code",
   "execution_count": 38,
   "id": "1d9dd941",
   "metadata": {},
   "outputs": [
    {
     "data": {
      "text/plain": [
       "'name: x86, manufacturer: Intel, total: 86, allocate: 45 '"
      ]
     },
     "execution_count": 38,
     "metadata": {},
     "output_type": "execute_result"
    }
   ],
   "source": [
    "my_cpu.__repr__()"
   ]
  },
  {
   "cell_type": "code",
   "execution_count": 39,
   "id": "c748fe70",
   "metadata": {},
   "outputs": [
    {
     "name": "stdout",
     "output_type": "stream",
     "text": [
      "Allocated 12 x86s!!!\n"
     ]
    },
    {
     "data": {
      "text/plain": [
       "(None, 86, 57)"
      ]
     },
     "execution_count": 39,
     "metadata": {},
     "output_type": "execute_result"
    }
   ],
   "source": [
    "my_cpu.claim(12), my_cpu._total, my_cpu._allocated"
   ]
  },
  {
   "cell_type": "code",
   "execution_count": 40,
   "id": "0ee5753d",
   "metadata": {},
   "outputs": [
    {
     "name": "stdout",
     "output_type": "stream",
     "text": [
      "Rendered 12 x86s!!!\n"
     ]
    }
   ],
   "source": [
    "my_cpu.died(12)"
   ]
  },
  {
   "cell_type": "code",
   "execution_count": 41,
   "id": "b54e735a",
   "metadata": {},
   "outputs": [
    {
     "name": "stdout",
     "output_type": "stream",
     "text": [
      "Purchased 144 x86s!!!\n"
     ]
    }
   ],
   "source": [
    "my_cpu.purchased(144)"
   ]
  },
  {
   "cell_type": "code",
   "execution_count": 42,
   "id": "417db5cc",
   "metadata": {},
   "outputs": [
    {
     "name": "stdout",
     "output_type": "stream",
     "text": [
      "Rendered 12 x86s!!!\n"
     ]
    }
   ],
   "source": [
    "my_cpu.died(12)"
   ]
  },
  {
   "cell_type": "code",
   "execution_count": 43,
   "id": "c5ae59d4",
   "metadata": {},
   "outputs": [
    {
     "data": {
      "text/plain": [
       "(230, 33)"
      ]
     },
     "execution_count": 43,
     "metadata": {},
     "output_type": "execute_result"
    }
   ],
   "source": [
    "my_cpu._total, my_cpu._allocated"
   ]
  },
  {
   "cell_type": "code",
   "execution_count": 44,
   "id": "c1574ac4",
   "metadata": {},
   "outputs": [
    {
     "data": {
      "text/plain": [
       "'name: Core i5, manufacturer: Intel, total: 154, allocate: 4 '"
      ]
     },
     "execution_count": 44,
     "metadata": {},
     "output_type": "execute_result"
    }
   ],
   "source": [
    "my_hdd = HDD(\"Core i5\", \"Intel\", 154, 4, 256, \"middle\", 4)\n",
    "my_hdd.__repr__()"
   ]
  },
  {
   "cell_type": "code",
   "execution_count": 45,
   "id": "59b55b5e",
   "metadata": {},
   "outputs": [
    {
     "data": {
      "text/plain": [
       "'HDD'"
      ]
     },
     "execution_count": 45,
     "metadata": {},
     "output_type": "execute_result"
    }
   ],
   "source": [
    "my_hdd.category"
   ]
  },
  {
   "cell_type": "code",
   "execution_count": 46,
   "id": "3d2e16a4",
   "metadata": {},
   "outputs": [
    {
     "data": {
      "text/plain": [
       "(154, 4)"
      ]
     },
     "execution_count": 46,
     "metadata": {},
     "output_type": "execute_result"
    }
   ],
   "source": [
    "my_hdd._total, my_hdd._allocated"
   ]
  },
  {
   "cell_type": "code",
   "execution_count": 47,
   "id": "f07f5097",
   "metadata": {},
   "outputs": [
    {
     "name": "stdout",
     "output_type": "stream",
     "text": [
      "Purchased 144 Core i5s!!!\n"
     ]
    }
   ],
   "source": [
    "my_hdd.purchased(144)"
   ]
  },
  {
   "cell_type": "code",
   "execution_count": 48,
   "id": "45772e14",
   "metadata": {},
   "outputs": [
    {
     "data": {
      "text/plain": [
       "(298, 4)"
      ]
     },
     "execution_count": 48,
     "metadata": {},
     "output_type": "execute_result"
    }
   ],
   "source": [
    "my_hdd._total, my_hdd._allocated"
   ]
  },
  {
   "cell_type": "code",
   "execution_count": null,
   "id": "a7460a62",
   "metadata": {},
   "outputs": [],
   "source": []
  },
  {
   "cell_type": "markdown",
   "id": "e3c0f866",
   "metadata": {},
   "source": [
    "### Define an abstract base class for a data storage system, with methods like save(), load(), and delete(). Implement concrete subclasses representing different storage systems, such as file-based storage and database storage, ensuring they adhere to the abstract interface."
   ]
  },
  {
   "cell_type": "code",
   "execution_count": 151,
   "id": "b65db39b",
   "metadata": {},
   "outputs": [],
   "source": [
    "from abc import ABC, abstractmethod\n",
    "class Storage_system(ABC):\n",
    "    @abstractmethod\n",
    "    def save(self, key):\n",
    "        pass\n",
    "    \n",
    "    def load(self, key):\n",
    "        pass\n",
    "    \n",
    "    def delete(self, key):\n",
    "        pass\n",
    "\n",
    "\n",
    "import json        \n",
    "class DataBase_system(Storage_system):\n",
    "    def __init__(self):\n",
    "        with open(\"DB.json\", \"w\") as json_file:\n",
    "            json.dump({}, json_file)\n",
    "            \n",
    "    def save(self, data):\n",
    "        with open(\"DB.json\", \"w\") as json_file:\n",
    "            json.dump(data, json_file)\n",
    "        print(\"The data is saved in the DB\")\n",
    "    \n",
    "    def load(self, key):\n",
    "        with open(\"DB.json\", \"r\") as json_file:\n",
    "            json_material = json.load(json_file)\n",
    "        if str(key) in json_material.keys():\n",
    "            needed_data = json_material[str(key)]\n",
    "            return needed_data\n",
    "        else:\n",
    "            print(\"No such data found!!!\")\n",
    "            return json_material\n",
    "    \n",
    "    def delete(self, key):\n",
    "        output = f\"no such {key} in our DB!!\"\n",
    "        with open(\"DB.json\", \"r\") as json_file:\n",
    "            json_material = json.load(json_file)\n",
    "        if str(key) in json_material.keys():\n",
    "            del json_material[str(key)]\n",
    "            output = f\"{key} is deleted from DB\"\n",
    "            with open(\"DB.json\", \"w\") as json_file:\n",
    "                json.dump(json_material, json_file)\n",
    "        return output"
   ]
  },
  {
   "cell_type": "code",
   "execution_count": 152,
   "id": "0657f523",
   "metadata": {},
   "outputs": [],
   "source": [
    "example = DataBase_system()"
   ]
  },
  {
   "cell_type": "code",
   "execution_count": 153,
   "id": "533df837",
   "metadata": {},
   "outputs": [
    {
     "name": "stdout",
     "output_type": "stream",
     "text": [
      "The data is saved in the DB\n"
     ]
    }
   ],
   "source": [
    "example.save({1:1, 2:2, 3:3})"
   ]
  },
  {
   "cell_type": "code",
   "execution_count": 155,
   "id": "f39f8702",
   "metadata": {},
   "outputs": [
    {
     "data": {
      "text/plain": [
       "'1 is deleted from DB'"
      ]
     },
     "execution_count": 155,
     "metadata": {},
     "output_type": "execute_result"
    }
   ],
   "source": [
    "example.delete(1)"
   ]
  },
  {
   "cell_type": "markdown",
   "id": "d472a661",
   "metadata": {},
   "source": [
    "### Implement a hierarchy of classes representing different types of vehicles, such as cars, motorcycles, and bicycles. Demonstrate inheritance, method overriding, and polymorphism by implementing common methods and attributes specific to each vehicle type."
   ]
  },
  {
   "cell_type": "code",
   "execution_count": 49,
   "id": "70c4bf58",
   "metadata": {},
   "outputs": [],
   "source": [
    "class Vehicle:\n",
    "    def __init__(self, name, manufacturer, year):\n",
    "        self.name = name\n",
    "        self.manufacturer = manufacturer\n",
    "        self.year = year\n",
    "        \n",
    "    def __repr__(self):\n",
    "        output = {\"name\":self.name,\n",
    "                 \"manufacturer\": self.manufacturer,\n",
    "                 \"year of production\": self.year}\n",
    "        return output\n",
    "\n",
    "    def is_old(self):\n",
    "        if 2012 < self.year < 2023:\n",
    "            return False\n",
    "        elif self.year < 2013:\n",
    "            return True\n",
    "        \n",
    "class Car(Vehicle):\n",
    "    def __init__(self, name, manufacturer, year, type_of_engine, fuel_consumption_p_m):\n",
    "        super().__init__(name, manufacturer, year)\n",
    "        #self.name = name\n",
    "        #self.manufacturer = manufacturer\n",
    "        #self.year = year\n",
    "        self.type_of_engine = type_of_engine\n",
    "        self.fuel_consumption_p_m = fuel_consumption_p_m\n",
    "        \n",
    "    def fuel_spend(self, miles):\n",
    "        print(f\"the fuel consumpted after {miles} miles is:\" )\n",
    "        return miles * self.fuel_consumption_p_m\n",
    "    \n",
    "    def __repr__(self):\n",
    "        output = {\"name\":self.name,\n",
    "                 \"manufacturer\": self.manufacturer,\n",
    "                 \"year of production\": self.year,\n",
    "                 \"type of engine\": self.type_of_engine,\n",
    "                 \"fuel consumption\": self.fuel_consumption_p_m}\n",
    "        return output\n",
    "    \n",
    "    def taxing(self):\n",
    "        engine_dict = {\"diesel\": 100,\n",
    "                      \"gasoline\": 70,\n",
    "                      \"electric\": 12,\n",
    "                      \"natural gas\": 34}\n",
    "        if self.type_of_engine in engine_dict:\n",
    "            print(f\"The taxing of {self.type_of_engine} type of engine is: \")\n",
    "            return engine_dict[self.type_of_engine]\n",
    "        \n",
    "        else:\n",
    "            print(\"no such type of engine for us!!!\")\n",
    "            \n",
    "class Motorcycle(Vehicle):\n",
    "    def __init__(self, name, manufacturer, year, CO_emmission, power):\n",
    "        super().__init__(name, manufacturer, year)\n",
    "        self.CO_emmission = CO_emmission\n",
    "        self.power = power\n",
    "        \n",
    "    def __repr__(self):\n",
    "        output = {\"name\":self.name,\n",
    "                 \"manufacturer\": self.manufacturer,\n",
    "                 \"year of production\": self.year,\n",
    "                 \"CO emmission\": self.CO_emmission,\n",
    "                 \"power of engine\": self.power}\n",
    "        return output\n",
    "    \n",
    "    def emmision_amount(self):\n",
    "        if self.power/self.CO_emmission > 100:\n",
    "            print(\"The amount of CO emmited to the atmosphere is a lot.\")\n",
    "        elif  0 <  self.power/self.CO_emmission <= 100:\n",
    "            print(\"The amount of CO emmited to the atmosphere is not  a lot.\")\n",
    "            \n",
    "            \n",
    "class Bicycle(Vehicle):\n",
    "    def __init__(self, name, manufacturer, year, top_speed, weight):\n",
    "        super().__init__(name, manufacturer, year)\n",
    "        self.top_speed = top_speed\n",
    "        self.weight = weight\n",
    "        \n",
    "    def __repr__(self):\n",
    "        output = {\"name\":self.name,\n",
    "                 \"manufacturer\": self.manufacturer,\n",
    "                 \"year of production\": self.year,\n",
    "                 \"top speed\": self.top_speed,\n",
    "                 \"weight\": self.weight}\n",
    "        return output\n",
    "    \n",
    "    def is_heavy(self):\n",
    "        if weight > 30:\n",
    "            return True\n",
    "        elif 30 >= weight > 10:\n",
    "            return False"
   ]
  },
  {
   "cell_type": "code",
   "execution_count": null,
   "id": "e25afbdb",
   "metadata": {},
   "outputs": [],
   "source": []
  },
  {
   "cell_type": "code",
   "execution_count": 50,
   "id": "855be3e2",
   "metadata": {},
   "outputs": [
    {
     "name": "stdout",
     "output_type": "stream",
     "text": [
      "The taxing of electric type of engine is: \n"
     ]
    },
    {
     "data": {
      "text/plain": [
       "12"
      ]
     },
     "execution_count": 50,
     "metadata": {},
     "output_type": "execute_result"
    }
   ],
   "source": [
    "tesla = Car(\"model y\", \"Tesla\", 2020, \"electric\", 15)\n",
    "tesla.taxing()"
   ]
  },
  {
   "cell_type": "code",
   "execution_count": 51,
   "id": "8b7978cc",
   "metadata": {},
   "outputs": [
    {
     "data": {
      "text/plain": [
       "{'name': 'model y',\n",
       " 'manufacturer': 'Tesla',\n",
       " 'year of production': 2020,\n",
       " 'type of engine': 'electric',\n",
       " 'fuel consumption': 15}"
      ]
     },
     "execution_count": 51,
     "metadata": {},
     "output_type": "execute_result"
    }
   ],
   "source": [
    "tesla.__repr__()"
   ]
  },
  {
   "cell_type": "code",
   "execution_count": 52,
   "id": "9afee8cb",
   "metadata": {},
   "outputs": [
    {
     "data": {
      "text/plain": [
       "False"
      ]
     },
     "execution_count": 52,
     "metadata": {},
     "output_type": "execute_result"
    }
   ],
   "source": [
    "tesla.is_old()"
   ]
  },
  {
   "cell_type": "code",
   "execution_count": 57,
   "id": "c8bae7c7",
   "metadata": {},
   "outputs": [
    {
     "data": {
      "text/plain": [
       "{'name': 'Hm26',\n",
       " 'manufacturer': 'Honda',\n",
       " 'year of production': 2015,\n",
       " 'CO emmission': 5.5,\n",
       " 'power of engine': 195}"
      ]
     },
     "execution_count": 57,
     "metadata": {},
     "output_type": "execute_result"
    }
   ],
   "source": [
    "honda = Motorcycle(\"Hm26\", \"Honda\", 2015, 5.5, 195)\n",
    "honda.__repr__()"
   ]
  },
  {
   "cell_type": "code",
   "execution_count": 58,
   "id": "585168fe",
   "metadata": {},
   "outputs": [
    {
     "data": {
      "text/plain": [
       "False"
      ]
     },
     "execution_count": 58,
     "metadata": {},
     "output_type": "execute_result"
    }
   ],
   "source": [
    "honda.is_old()"
   ]
  },
  {
   "cell_type": "code",
   "execution_count": 59,
   "id": "7746d5e6",
   "metadata": {},
   "outputs": [
    {
     "name": "stdout",
     "output_type": "stream",
     "text": [
      "The amount of CO emmited to the atmosphere is not  a lot.\n"
     ]
    }
   ],
   "source": [
    "honda.emmision_amount()"
   ]
  },
  {
   "cell_type": "code",
   "execution_count": null,
   "id": "6eccdeb2",
   "metadata": {},
   "outputs": [],
   "source": []
  },
  {
   "cell_type": "markdown",
   "id": "8e95db43",
   "metadata": {},
   "source": [
    "### Implement a metaclass that automatically adds type checking to class attributes. Define a class with attributes of different types, and observe how the metaclass enforces type checking during attribute assignment.\n"
   ]
  },
  {
   "cell_type": "code",
   "execution_count": 165,
   "id": "e0c13022",
   "metadata": {},
   "outputs": [],
   "source": [
    "class TypeChecking(type):\n",
    "    def __new__(cls, name, bases, attrs):\n",
    "        for item, value in attrs.items():\n",
    "            if not item.startswith(\"__\") and not callable(value):\n",
    "                needed_type = attrs.get(attr)\n",
    "                if needed_type and not isinstance(value, needed_type):\n",
    "                    raise TypeError(f\"Invalid type for '{attr}'. Needed {needed_type}\")\n",
    "        return super().__new__(cls, name, bases, attrs)\n",
    "\n",
    "class Car(metaclass=TypeChecking):\n",
    "    name: str\n",
    "    year: int\n",
    "    weight: float\n",
    "    manuufacturer: str\n",
    "    miles: int\n",
    "\n",
    "bmw = Car()\n",
    "bmw.name = \"M5\"\n",
    "bmw.age = 2009\n",
    "bmw.weight = 2100\n",
    "bmw.miles = 20000"
   ]
  },
  {
   "cell_type": "code",
   "execution_count": null,
   "id": "7ade9361",
   "metadata": {},
   "outputs": [],
   "source": []
  }
 ],
 "metadata": {
  "kernelspec": {
   "display_name": "Python 3 (ipykernel)",
   "language": "python",
   "name": "python3"
  },
  "language_info": {
   "codemirror_mode": {
    "name": "ipython",
    "version": 3
   },
   "file_extension": ".py",
   "mimetype": "text/x-python",
   "name": "python",
   "nbconvert_exporter": "python",
   "pygments_lexer": "ipython3",
   "version": "3.9.13"
  }
 },
 "nbformat": 4,
 "nbformat_minor": 5
}
